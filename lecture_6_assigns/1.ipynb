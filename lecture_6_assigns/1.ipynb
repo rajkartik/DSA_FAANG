{
 "cells": [
  {
   "cell_type": "markdown",
   "metadata": {},
   "source": [
    "Q1:#Square Root"
   ]
  },
  {
   "cell_type": "code",
   "execution_count": null,
   "metadata": {},
   "outputs": [],
   "source": [
    "\n",
    "def floorSqrt(x): \n",
    "    l=0\n",
    "    r=x\n",
    "    while l<=r:\n",
    "        mid=l+(r-l)//2\n",
    "        if mid*mid==x:\n",
    "            return mid\n",
    "        elif mid*mid > x:\n",
    "            r=mid-1\n",
    "        else:\n",
    "            l=mid+1\n",
    "    return r"
   ]
  },
  {
   "cell_type": "markdown",
   "metadata": {},
   "source": [
    "#First Search\n",
    "Q: -You are a product manager and currently leading a team to develop a new product. Unfortunately, the latest version of your product fails the quality check. Since each version is developed based on the previous version, all the versions after a bad version are also bad. Suppose you have n version and you want to find out the first bad one, which causes all the following ones to be bad. Also, talk about the time complexity of your code.\n",
    "Test Cases:\n",
    "Input: [0,0,0,1,1,1,1,1,1]\n",
    "Output: 3\n",
    "Explanation: 0 indicates a good version and 1 indicates a bad version. So, the index of the first 1 is at 3. Thus, the output is 3\n"
   ]
  },
  {
   "cell_type": "markdown",
   "metadata": {},
   "source": []
  },
  {
   "cell_type": "code",
   "execution_count": 7,
   "metadata": {},
   "outputs": [
    {
     "data": {
      "text/plain": [
       "5"
      ]
     },
     "execution_count": 7,
     "metadata": {},
     "output_type": "execute_result"
    }
   ],
   "source": [
    "def first_num(a=[0,0,0,0,0,1,1,1,1],t=1):\n",
    "    l=0\n",
    "    r=len(a)-1\n",
    "    ans=-1\n",
    "    while l<=r:\n",
    "        mid=l+(r-l)//2\n",
    "        if a[mid]==t:\n",
    "            \n",
    "            ans=mid\n",
    "            r=mid-1\n",
    "        elif a[mid]>t:\n",
    "            r=mid-1\n",
    "        else:\n",
    "            l=mid+1\n",
    "        \n",
    "        \n",
    "    return ans\n",
    "first_num()"
   ]
  },
  {
   "cell_type": "markdown",
   "metadata": {},
   "source": [
    " Q:3"
   ]
  },
  {
   "cell_type": "code",
   "execution_count": 13,
   "metadata": {},
   "outputs": [
    {
     "data": {
      "text/plain": [
       "True"
      ]
     },
     "execution_count": 13,
     "metadata": {},
     "output_type": "execute_result"
    }
   ],
   "source": [
    "\n",
    "def perfect_sqrt(x=25): \n",
    "    l=0\n",
    "    r=x\n",
    "    while l<=r:\n",
    "        mid=l+(r-l)//2\n",
    "        if mid*mid==x:\n",
    "            return True\n",
    "        elif mid*mid > x:\n",
    "            r=mid-1\n",
    "        else:\n",
    "            l=mid+1\n",
    "    return False\n",
    "perfect_sqrt()"
   ]
  },
  {
   "cell_type": "markdown",
   "metadata": {},
   "source": []
  }
 ],
 "metadata": {
  "kernelspec": {
   "display_name": "Python 3.10.0 64-bit",
   "language": "python",
   "name": "python3"
  },
  "language_info": {
   "codemirror_mode": {
    "name": "ipython",
    "version": 3
   },
   "file_extension": ".py",
   "mimetype": "text/x-python",
   "name": "python",
   "nbconvert_exporter": "python",
   "pygments_lexer": "ipython3",
   "version": "3.10.0"
  },
  "orig_nbformat": 4,
  "vscode": {
   "interpreter": {
    "hash": "7591f8c94a3325442c71c7903c85e52c80d2a61e111fffafb6ab1e2ffff5a721"
   }
  }
 },
 "nbformat": 4,
 "nbformat_minor": 2
}
